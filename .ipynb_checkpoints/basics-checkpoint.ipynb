{
 "cells": [
  {
   "cell_type": "code",
   "execution_count": 15,
   "id": "f89aadc8-47fb-4925-b410-34e8c8e9a324",
   "metadata": {},
   "outputs": [
    {
     "name": "stdout",
     "output_type": "stream",
     "text": [
      "            Entity Code  Year  GDP per capita 900793-annotations\n",
      "0      Afghanistan  AFG  1950       1156.0000                NaN\n",
      "1      Afghanistan  AFG  1951       1170.0000                NaN\n",
      "2      Afghanistan  AFG  1952       1189.0000                NaN\n",
      "3      Afghanistan  AFG  1953       1240.0000                NaN\n",
      "4      Afghanistan  AFG  1954       1245.0000                NaN\n",
      "...            ...  ...   ...             ...                ...\n",
      "21581     Zimbabwe  ZWE  2018       1900.1992                NaN\n",
      "21582     Zimbabwe  ZWE  2019       1753.0244                NaN\n",
      "21583     Zimbabwe  ZWE  2020       1585.9728                NaN\n",
      "21584     Zimbabwe  ZWE  2021       1687.2532                NaN\n",
      "21585     Zimbabwe  ZWE  2022       1703.5294                NaN\n",
      "\n",
      "[21586 rows x 5 columns]\n",
      "            Entity      Code  Year  GDP per capita 900793-annotations\n",
      "72     Afghanistan       AFG  2022       1357.9878                NaN\n",
      "151        Albania       ALB  2022      12978.1010                NaN\n",
      "227        Algeria       DZA  2022      13506.4440                NaN\n",
      "300         Angola       AGO  2022       6118.9050                NaN\n",
      "453      Argentina       ARG  2022      18292.3180                NaN\n",
      "...            ...       ...   ...             ...                ...\n",
      "21198        World  OWID_WRL  2022      16676.7500                NaN\n",
      "21271        Yemen       YEM  2022       1959.3195                NaN\n",
      "21372   Yugoslavia  OWID_YGS  2022      19352.3850                NaN\n",
      "21484       Zambia       ZMB  2022       3342.4214                NaN\n",
      "21585     Zimbabwe       ZWE  2022       1703.5294                NaN\n",
      "\n",
      "[178 rows x 5 columns]\n"
     ]
    }
   ],
   "source": [
    "import pandas as pd\n",
    "\n",
    "# Prepare Data\n",
    "gdp_per_capita = pd.read_csv(\"data/gdp-per-capita-maddison.csv\")\n",
    "gdp_per_capita.drop(columns=[\"Code\", \"900793-annotations\"])\n",
    "print(gdp_per_capita)\n",
    "gdp_data = gdp_per_capita.loc[gdp_per_capita[\"Year\"] == 2022]\n",
    "print(data)\n",
    "data.to_csv(\"temp.csv\", index=False)"
   ]
  }
 ],
 "metadata": {
  "kernelspec": {
   "display_name": "Python 3 (ipykernel)",
   "language": "python",
   "name": "python3"
  },
  "language_info": {
   "codemirror_mode": {
    "name": "ipython",
    "version": 3
   },
   "file_extension": ".py",
   "mimetype": "text/x-python",
   "name": "python",
   "nbconvert_exporter": "python",
   "pygments_lexer": "ipython3",
   "version": "3.11.7"
  }
 },
 "nbformat": 4,
 "nbformat_minor": 5
}
